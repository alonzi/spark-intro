{
 "cells": [
  {
   "cell_type": "markdown",
   "metadata": {},
   "source": [
    "# SQL, Database operations, and analysis\n",
    "In this notebook we will explore SQL and database operations like 'join'. Then we will use the datasets as input to a simple analysis.\n",
    "\n",
    "## In this Noteboook\n",
    "1. create a context\n",
    "2. read in data\n",
    "3. register table with SQL\n",
    "4. perform SQL queries\n",
    "5. perform database operations\n",
    "6. do some analysis"
   ]
  },
  {
   "cell_type": "code",
   "execution_count": 1,
   "metadata": {},
   "outputs": [],
   "source": [
    "### DO NOT RUN\n",
    "### DO NOT RUN\n",
    "### DO NOT RUN\n",
    "\n",
    "# Initialize the spark environment (takes ~ 1min)\n",
    "import pyspark\n",
    "conf = pyspark.SparkConf().setAppName('odl').setMaster('local')\n",
    "sc = pyspark.SparkContext(conf=conf)\n",
    "sqlc = pyspark.sql.SQLContext(sc)\n",
    "\n",
    "### DO NOT RUN\n",
    "### DO NOT RUN\n",
    "### DO NOT RUN"
   ]
  },
  {
   "cell_type": "code",
   "execution_count": 5,
   "metadata": {},
   "outputs": [],
   "source": [
    "import pyspark.sql.functions as sf"
   ]
  },
  {
   "cell_type": "markdown",
   "metadata": {},
   "source": [
    "## Read in Data"
   ]
  },
  {
   "cell_type": "code",
   "execution_count": 10,
   "metadata": {},
   "outputs": [],
   "source": [
    "dataPaths = [\"bbref/bryce.csv\",\"bbref/javy.csv\",\"bbref/andre.csv\"]"
   ]
  },
  {
   "cell_type": "code",
   "execution_count": 15,
   "metadata": {},
   "outputs": [],
   "source": [
    "dfbryce = sqlc.read.format(\"csv\").option(\"header\",\"true\").option(\"inferSchema\", \"true\").load(dataPaths[0])\n",
    "dfjavyb = sqlc.read.format(\"csv\").option(\"header\",\"true\").option(\"inferSchema\", \"true\").load(dataPaths[1])\n",
    "dfandre = sqlc.read.format(\"csv\").option(\"header\",\"true\").option(\"inferSchema\", \"true\").load(dataPaths[2])"
   ]
  },
  {
   "cell_type": "code",
   "execution_count": 17,
   "metadata": {},
   "outputs": [
    {
     "name": "stdout",
     "output_type": "stream",
     "text": [
      "root\n",
      " |-- Year: integer (nullable = true)\n",
      " |-- Age: integer (nullable = true)\n",
      " |-- Tm: string (nullable = true)\n",
      " |-- Lg: string (nullable = true)\n",
      " |-- G: integer (nullable = true)\n",
      " |-- PA: integer (nullable = true)\n",
      " |-- AB: integer (nullable = true)\n",
      " |-- R: integer (nullable = true)\n",
      " |-- H: integer (nullable = true)\n",
      " |-- 2B: integer (nullable = true)\n",
      " |-- 3B: integer (nullable = true)\n",
      " |-- HR: integer (nullable = true)\n",
      " |-- RBI: integer (nullable = true)\n",
      " |-- SB: integer (nullable = true)\n",
      " |-- CS: integer (nullable = true)\n",
      " |-- BB: integer (nullable = true)\n",
      " |-- SO: integer (nullable = true)\n",
      " |-- BA: double (nullable = true)\n",
      " |-- OBP: double (nullable = true)\n",
      " |-- SLG: double (nullable = true)\n",
      " |-- OPS: double (nullable = true)\n",
      " |-- OPS+: integer (nullable = true)\n",
      " |-- TB: integer (nullable = true)\n",
      " |-- GDP: integer (nullable = true)\n",
      " |-- HBP: integer (nullable = true)\n",
      " |-- SH: integer (nullable = true)\n",
      " |-- SF: integer (nullable = true)\n",
      " |-- IBB: integer (nullable = true)\n",
      " |-- Pos: string (nullable = true)\n",
      " |-- Awards: string (nullable = true)\n",
      "\n"
     ]
    }
   ],
   "source": [
    "dfbryce.printSchema()"
   ]
  },
  {
   "cell_type": "markdown",
   "metadata": {},
   "source": [
    "## Register Tables"
   ]
  },
  {
   "cell_type": "code",
   "execution_count": 28,
   "metadata": {},
   "outputs": [],
   "source": [
    "dfbryce.registerTempTable(\"bryce\")\n",
    "dfjavyb.registerTempTable(\"javyb\")\n",
    "dfandre.registerTempTable(\"andre\")"
   ]
  },
  {
   "cell_type": "markdown",
   "metadata": {},
   "source": [
    "## SQL queries to produce dataframes"
   ]
  },
  {
   "cell_type": "code",
   "execution_count": 37,
   "metadata": {},
   "outputs": [
    {
     "name": "stdout",
     "output_type": "stream",
     "text": [
      "+----+---+---+\n",
      "|Year|  H| AB|\n",
      "+----+---+---+\n",
      "|2012|144|533|\n",
      "|2013|116|424|\n",
      "|2014| 96|352|\n",
      "|2015|172|521|\n",
      "|2016|123|506|\n",
      "|2017|134|420|\n",
      "|2018|137|550|\n",
      "+----+---+---+\n",
      "\n"
     ]
    }
   ],
   "source": [
    "Bhits = sqlc.sql(\"\"\" SELECT Year,H,AB FROM bryce \"\"\")\n",
    "Bhits.show()"
   ]
  },
  {
   "cell_type": "code",
   "execution_count": 47,
   "metadata": {},
   "outputs": [
    {
     "name": "stdout",
     "output_type": "stream",
     "text": [
      "== Parsed Logical Plan ==\n",
      "'Project ['Year, 'H, 'AB]\n",
      "+- 'UnresolvedRelation `bryce`\n",
      "\n",
      "== Analyzed Logical Plan ==\n",
      "Year: int, H: int, AB: int\n",
      "Project [Year#888, H#896, AB#894]\n",
      "+- SubqueryAlias bryce\n",
      "   +- Relation[Year#888,Age#889,Tm#890,Lg#891,G#892,PA#893,AB#894,R#895,H#896,2B#897,3B#898,HR#899,RBI#900,SB#901,CS#902,BB#903,SO#904,BA#905,OBP#906,SLG#907,OPS#908,OPS+#909,TB#910,GDP#911,... 6 more fields] csv\n",
      "\n",
      "== Optimized Logical Plan ==\n",
      "Project [Year#888, H#896, AB#894]\n",
      "+- Relation[Year#888,Age#889,Tm#890,Lg#891,G#892,PA#893,AB#894,R#895,H#896,2B#897,3B#898,HR#899,RBI#900,SB#901,CS#902,BB#903,SO#904,BA#905,OBP#906,SLG#907,OPS#908,OPS+#909,TB#910,GDP#911,... 6 more fields] csv\n",
      "\n",
      "== Physical Plan ==\n",
      "*Project [Year#888, H#896, AB#894]\n",
      "+- *FileScan csv [Year#888,AB#894,H#896] Batched: false, Format: CSV, Location: InMemoryFileIndex[file:/home/ec2-user/SageMaker/bbref/bryce.csv], PartitionFilters: [], PushedFilters: [], ReadSchema: struct<Year:int,AB:int,H:int>\n"
     ]
    }
   ],
   "source": [
    "Bhits.explain(True)"
   ]
  },
  {
   "cell_type": "code",
   "execution_count": 57,
   "metadata": {},
   "outputs": [
    {
     "name": "stdout",
     "output_type": "stream",
     "text": [
      "+----+---+\n",
      "|Year|  H|\n",
      "+----+---+\n",
      "|2015|172|\n",
      "+----+---+\n",
      "\n",
      "== Parsed Logical Plan ==\n",
      "'Project ['Year, 'H]\n",
      "+- 'Filter ('YEAR = 2015)\n",
      "   +- 'UnresolvedRelation `bryce`\n",
      "\n",
      "== Analyzed Logical Plan ==\n",
      "Year: int, H: int\n",
      "Project [Year#888, H#896]\n",
      "+- Filter (YEAR#888 = 2015)\n",
      "   +- SubqueryAlias bryce\n",
      "      +- Relation[Year#888,Age#889,Tm#890,Lg#891,G#892,PA#893,AB#894,R#895,H#896,2B#897,3B#898,HR#899,RBI#900,SB#901,CS#902,BB#903,SO#904,BA#905,OBP#906,SLG#907,OPS#908,OPS+#909,TB#910,GDP#911,... 6 more fields] csv\n",
      "\n",
      "== Optimized Logical Plan ==\n",
      "Project [Year#888, H#896]\n",
      "+- Filter (isnotnull(YEAR#888) && (YEAR#888 = 2015))\n",
      "   +- Relation[Year#888,Age#889,Tm#890,Lg#891,G#892,PA#893,AB#894,R#895,H#896,2B#897,3B#898,HR#899,RBI#900,SB#901,CS#902,BB#903,SO#904,BA#905,OBP#906,SLG#907,OPS#908,OPS+#909,TB#910,GDP#911,... 6 more fields] csv\n",
      "\n",
      "== Physical Plan ==\n",
      "*Project [Year#888, H#896]\n",
      "+- *Filter (isnotnull(YEAR#888) && (YEAR#888 = 2015))\n",
      "   +- *FileScan csv [Year#888,H#896] Batched: false, Format: CSV, Location: InMemoryFileIndex[file:/home/ec2-user/SageMaker/bbref/bryce.csv], PartitionFilters: [], PushedFilters: [IsNotNull(Year), EqualTo(Year,2015)], ReadSchema: struct<Year:int,H:int>\n"
     ]
    }
   ],
   "source": [
    "sqlc.sql(\"\"\" SELECT Year,H FROM bryce WHERE YEAR = 2015 \"\"\").show()\n",
    "sqlc.sql(\"\"\" SELECT Year,H FROM bryce WHERE YEAR = 2015 \"\"\").explain(True)"
   ]
  },
  {
   "cell_type": "code",
   "execution_count": 58,
   "metadata": {},
   "outputs": [
    {
     "name": "stdout",
     "output_type": "stream",
     "text": [
      "+----+---+---+\n",
      "|Year|  H| AB|\n",
      "+----+---+---+\n",
      "|2014| 36|213|\n",
      "|2015| 22| 76|\n",
      "|2016|115|421|\n",
      "|2017|128|469|\n",
      "|2018|176|606|\n",
      "+----+---+---+\n",
      "\n"
     ]
    }
   ],
   "source": [
    "Jhits = sqlc.sql(\"\"\" SELECT Year,H,AB FROM javyb \"\"\")\n",
    "Jhits.show()"
   ]
  },
  {
   "cell_type": "code",
   "execution_count": 59,
   "metadata": {},
   "outputs": [
    {
     "name": "stdout",
     "output_type": "stream",
     "text": [
      "+----+---+---+\n",
      "|Year|  H| AB|\n",
      "+----+---+---+\n",
      "|1976| 20| 85|\n",
      "|1977|148|525|\n",
      "|1978|154|609|\n",
      "|1979|176|639|\n",
      "|1980|178|577|\n",
      "|1981|119|394|\n",
      "|1982|183|608|\n",
      "|1983|189|633|\n",
      "|1984|132|533|\n",
      "|1985|135|529|\n",
      "|1986|141|496|\n",
      "|1987|178|621|\n",
      "|1988|179|591|\n",
      "|1989|105|416|\n",
      "|1990|164|529|\n",
      "|1991|153|563|\n",
      "|1992|150|542|\n",
      "|1993|126|461|\n",
      "|1994| 70|292|\n",
      "|1995| 58|226|\n",
      "+----+---+---+\n",
      "only showing top 20 rows\n",
      "\n"
     ]
    }
   ],
   "source": [
    "Ahits = sqlc.sql(\"\"\" SELECT Year,H,AB FROM ANDRE \"\"\")\n",
    "Ahits.show()"
   ]
  },
  {
   "cell_type": "markdown",
   "metadata": {},
   "source": [
    "## Database Operations: joins"
   ]
  },
  {
   "cell_type": "code",
   "execution_count": 69,
   "metadata": {},
   "outputs": [
    {
     "name": "stdout",
     "output_type": "stream",
     "text": [
      "DataFrame[Year: int, H: int, AB: int, Year: int, H: int, AB: int, Year: int, H: int, AB: int]\n",
      "== Parsed Logical Plan ==\n",
      "Join FullOuter, (Year#888 = Year#1034)\n",
      ":- Join Inner, (Year#888 = Year#961)\n",
      ":  :- Project [Year#888, H#896, AB#894]\n",
      ":  :  +- SubqueryAlias bryce\n",
      ":  :     +- Relation[Year#888,Age#889,Tm#890,Lg#891,G#892,PA#893,AB#894,R#895,H#896,2B#897,3B#898,HR#899,RBI#900,SB#901,CS#902,BB#903,SO#904,BA#905,OBP#906,SLG#907,OPS#908,OPS+#909,TB#910,GDP#911,... 6 more fields] csv\n",
      ":  +- Project [Year#961, H#969, AB#967]\n",
      ":     +- SubqueryAlias javyb\n",
      ":        +- Relation[Year#961,Age#962,Tm#963,Lg#964,G#965,PA#966,AB#967,R#968,H#969,2B#970,3B#971,HR#972,RBI#973,SB#974,CS#975,BB#976,SO#977,BA#978,OBP#979,SLG#980,OPS#981,OPS+#982,TB#983,GDP#984,... 6 more fields] csv\n",
      "+- Project [Year#1034, H#1042, AB#1040]\n",
      "   +- SubqueryAlias andre\n",
      "      +- Relation[Year#1034,Age#1035,Tm#1036,Lg#1037,G#1038,PA#1039,AB#1040,R#1041,H#1042,2B#1043,3B#1044,HR#1045,RBI#1046,SB#1047,CS#1048,BB#1049,SO#1050,BA#1051,OBP#1052,SLG#1053,OPS#1054,OPS+#1055,TB#1056,GDP#1057,... 6 more fields] csv\n",
      "\n",
      "== Analyzed Logical Plan ==\n",
      "Year: int, H: int, AB: int, Year: int, H: int, AB: int, Year: int, H: int, AB: int\n",
      "Join FullOuter, (Year#888 = Year#1034)\n",
      ":- Join Inner, (Year#888 = Year#961)\n",
      ":  :- Project [Year#888, H#896, AB#894]\n",
      ":  :  +- SubqueryAlias bryce\n",
      ":  :     +- Relation[Year#888,Age#889,Tm#890,Lg#891,G#892,PA#893,AB#894,R#895,H#896,2B#897,3B#898,HR#899,RBI#900,SB#901,CS#902,BB#903,SO#904,BA#905,OBP#906,SLG#907,OPS#908,OPS+#909,TB#910,GDP#911,... 6 more fields] csv\n",
      ":  +- Project [Year#961, H#969, AB#967]\n",
      ":     +- SubqueryAlias javyb\n",
      ":        +- Relation[Year#961,Age#962,Tm#963,Lg#964,G#965,PA#966,AB#967,R#968,H#969,2B#970,3B#971,HR#972,RBI#973,SB#974,CS#975,BB#976,SO#977,BA#978,OBP#979,SLG#980,OPS#981,OPS+#982,TB#983,GDP#984,... 6 more fields] csv\n",
      "+- Project [Year#1034, H#1042, AB#1040]\n",
      "   +- SubqueryAlias andre\n",
      "      +- Relation[Year#1034,Age#1035,Tm#1036,Lg#1037,G#1038,PA#1039,AB#1040,R#1041,H#1042,2B#1043,3B#1044,HR#1045,RBI#1046,SB#1047,CS#1048,BB#1049,SO#1050,BA#1051,OBP#1052,SLG#1053,OPS#1054,OPS+#1055,TB#1056,GDP#1057,... 6 more fields] csv\n",
      "\n",
      "== Optimized Logical Plan ==\n",
      "Join FullOuter, (Year#888 = Year#1034)\n",
      ":- Join Inner, (Year#888 = Year#961)\n",
      ":  :- Project [Year#888, H#896, AB#894]\n",
      ":  :  +- Filter isnotnull(Year#888)\n",
      ":  :     +- Relation[Year#888,Age#889,Tm#890,Lg#891,G#892,PA#893,AB#894,R#895,H#896,2B#897,3B#898,HR#899,RBI#900,SB#901,CS#902,BB#903,SO#904,BA#905,OBP#906,SLG#907,OPS#908,OPS+#909,TB#910,GDP#911,... 6 more fields] csv\n",
      ":  +- Project [Year#961, H#969, AB#967]\n",
      ":     +- Filter isnotnull(Year#961)\n",
      ":        +- Relation[Year#961,Age#962,Tm#963,Lg#964,G#965,PA#966,AB#967,R#968,H#969,2B#970,3B#971,HR#972,RBI#973,SB#974,CS#975,BB#976,SO#977,BA#978,OBP#979,SLG#980,OPS#981,OPS+#982,TB#983,GDP#984,... 6 more fields] csv\n",
      "+- Project [Year#1034, H#1042, AB#1040]\n",
      "   +- Relation[Year#1034,Age#1035,Tm#1036,Lg#1037,G#1038,PA#1039,AB#1040,R#1041,H#1042,2B#1043,3B#1044,HR#1045,RBI#1046,SB#1047,CS#1048,BB#1049,SO#1050,BA#1051,OBP#1052,SLG#1053,OPS#1054,OPS+#1055,TB#1056,GDP#1057,... 6 more fields] csv\n",
      "\n",
      "== Physical Plan ==\n",
      "SortMergeJoin [Year#888], [Year#1034], FullOuter\n",
      ":- *Sort [Year#888 ASC NULLS FIRST], false, 0\n",
      ":  +- Exchange hashpartitioning(Year#888, 200)\n",
      ":     +- *BroadcastHashJoin [Year#888], [Year#961], Inner, BuildRight\n",
      ":        :- *Project [Year#888, H#896, AB#894]\n",
      ":        :  +- *Filter isnotnull(Year#888)\n",
      ":        :     +- *FileScan csv [Year#888,AB#894,H#896] Batched: false, Format: CSV, Location: InMemoryFileIndex[file:/home/ec2-user/SageMaker/bbref/bryce.csv], PartitionFilters: [], PushedFilters: [IsNotNull(Year)], ReadSchema: struct<Year:int,AB:int,H:int>\n",
      ":        +- BroadcastExchange HashedRelationBroadcastMode(List(cast(input[0, int, true] as bigint)))\n",
      ":           +- *Project [Year#961, H#969, AB#967]\n",
      ":              +- *Filter isnotnull(Year#961)\n",
      ":                 +- *FileScan csv [Year#961,AB#967,H#969] Batched: false, Format: CSV, Location: InMemoryFileIndex[file:/home/ec2-user/SageMaker/bbref/javy.csv], PartitionFilters: [], PushedFilters: [IsNotNull(Year)], ReadSchema: struct<Year:int,AB:int,H:int>\n",
      "+- *Sort [Year#1034 ASC NULLS FIRST], false, 0\n",
      "   +- Exchange hashpartitioning(Year#1034, 200)\n",
      "      +- *Project [Year#1034, H#1042, AB#1040]\n",
      "         +- *FileScan csv [Year#1034,AB#1040,H#1042] Batched: false, Format: CSV, Location: InMemoryFileIndex[file:/home/ec2-user/SageMaker/bbref/andre.csv], PartitionFilters: [], PushedFilters: [], ReadSchema: struct<Year:int,AB:int,H:int>\n",
      "+----+----+----+----+----+----+----+----+----+\n",
      "|Year|   H|  AB|Year|   H|  AB|Year|   H|  AB|\n",
      "+----+----+----+----+----+----+----+----+----+\n",
      "|null|null|null|null|null|null|1990| 164| 529|\n",
      "|null|null|null|null|null|null|1977| 148| 525|\n",
      "|2018| 137| 550|2018| 176| 606|null|null|null|\n",
      "|2015| 172| 521|2015|  22|  76|null|null|null|\n",
      "|null|null|null|null|null|null|1978| 154| 609|\n",
      "|null|null|null|null|null|null|1988| 179| 591|\n",
      "|null|null|null|null|null|null|1994|  70| 292|\n",
      "|2014|  96| 352|2014|  36| 213|null|null|null|\n",
      "|null|null|null|null|null|null|1979| 176| 639|\n",
      "|null|null|null|null|null|null|1991| 153| 563|\n",
      "|null|null|null|null|null|null|1982| 183| 608|\n",
      "|null|null|null|null|null|null|1989| 105| 416|\n",
      "|null|null|null|null|null|null|1996|  16|  58|\n",
      "|null|null|null|null|null|null|1985| 135| 529|\n",
      "|null|null|null|null|null|null|1987| 178| 621|\n",
      "|2016| 123| 506|2016| 115| 421|null|null|null|\n",
      "|null|null|null|null|null|null|1995|  58| 226|\n",
      "|null|null|null|null|null|null|1980| 178| 577|\n",
      "|null|null|null|null|null|null|1992| 150| 542|\n",
      "|null|null|null|null|null|null|1983| 189| 633|\n",
      "+----+----+----+----+----+----+----+----+----+\n",
      "only showing top 20 rows\n",
      "\n"
     ]
    }
   ],
   "source": [
    "df = Bhits.join(Jhits,Bhits.Year==Jhits.Year).join(Ahits,Bhits.Year==Ahits.Year,'outer')\n",
    "print(df)\n",
    "df.explain(True)"
   ]
  },
  {
   "cell_type": "code",
   "execution_count": 71,
   "metadata": {},
   "outputs": [
    {
     "name": "stdout",
     "output_type": "stream",
     "text": [
      "+----+----+----+----+----+----+----+----+----+\n",
      "|Year|   H|  AB|Year|   H|  AB|Year|   H|  AB|\n",
      "+----+----+----+----+----+----+----+----+----+\n",
      "|null|null|null|null|null|null|1990| 164| 529|\n",
      "|null|null|null|null|null|null|1977| 148| 525|\n",
      "|2018| 137| 550|2018| 176| 606|null|null|null|\n",
      "|2015| 172| 521|2015|  22|  76|null|null|null|\n",
      "|null|null|null|null|null|null|1978| 154| 609|\n",
      "|null|null|null|null|null|null|1988| 179| 591|\n",
      "|null|null|null|null|null|null|1994|  70| 292|\n",
      "|2014|  96| 352|2014|  36| 213|null|null|null|\n",
      "|null|null|null|null|null|null|1979| 176| 639|\n",
      "|null|null|null|null|null|null|1991| 153| 563|\n",
      "|null|null|null|null|null|null|1982| 183| 608|\n",
      "|null|null|null|null|null|null|1989| 105| 416|\n",
      "|null|null|null|null|null|null|1996|  16|  58|\n",
      "|null|null|null|null|null|null|1985| 135| 529|\n",
      "|null|null|null|null|null|null|1987| 178| 621|\n",
      "|2016| 123| 506|2016| 115| 421|null|null|null|\n",
      "|null|null|null|null|null|null|1995|  58| 226|\n",
      "|null|null|null|null|null|null|1980| 178| 577|\n",
      "|null|null|null|null|null|null|1992| 150| 542|\n",
      "|null|null|null|null|null|null|1983| 189| 633|\n",
      "+----+----+----+----+----+----+----+----+----+\n",
      "only showing top 20 rows\n",
      "\n"
     ]
    }
   ],
   "source": [
    "df.show()"
   ]
  },
  {
   "cell_type": "code",
   "execution_count": 73,
   "metadata": {},
   "outputs": [
    {
     "name": "stdout",
     "output_type": "stream",
     "text": [
      "DataFrame[Year: int, H: int, AB: int, Year: int, H: int, AB: int]\n",
      "+----+---+---+----+---+---+\n",
      "|Year|  H| AB|Year|  H| AB|\n",
      "+----+---+---+----+---+---+\n",
      "|2014| 96|352|2014| 36|213|\n",
      "|2015|172|521|2015| 22| 76|\n",
      "|2016|123|506|2016|115|421|\n",
      "|2017|134|420|2017|128|469|\n",
      "|2018|137|550|2018|176|606|\n",
      "+----+---+---+----+---+---+\n",
      "\n"
     ]
    }
   ],
   "source": [
    "df = Bhits.join(Jhits,Bhits.Year==Jhits.Year)\n",
    "print(df)\n",
    "df.show()"
   ]
  },
  {
   "cell_type": "markdown",
   "metadata": {},
   "source": [
    "## Analysis: aggregate, calculate"
   ]
  },
  {
   "cell_type": "code",
   "execution_count": 79,
   "metadata": {},
   "outputs": [],
   "source": [
    "CH = Bhits.groupBy().agg(sf.sum('H').alias('CH'))\n",
    "CAB = Bhits.groupBy().agg(sf.sum('AB').alias('CAB'))"
   ]
  },
  {
   "cell_type": "code",
   "execution_count": 80,
   "metadata": {},
   "outputs": [
    {
     "name": "stdout",
     "output_type": "stream",
     "text": [
      "== Parsed Logical Plan ==\n",
      "'Aggregate [sum('H) AS CH#1990]\n",
      "+- Project [Year#888, H#896, AB#894]\n",
      "   +- SubqueryAlias bryce\n",
      "      +- Relation[Year#888,Age#889,Tm#890,Lg#891,G#892,PA#893,AB#894,R#895,H#896,2B#897,3B#898,HR#899,RBI#900,SB#901,CS#902,BB#903,SO#904,BA#905,OBP#906,SLG#907,OPS#908,OPS+#909,TB#910,GDP#911,... 6 more fields] csv\n",
      "\n",
      "== Analyzed Logical Plan ==\n",
      "CH: bigint\n",
      "Aggregate [sum(cast(H#896 as bigint)) AS CH#1990L]\n",
      "+- Project [Year#888, H#896, AB#894]\n",
      "   +- SubqueryAlias bryce\n",
      "      +- Relation[Year#888,Age#889,Tm#890,Lg#891,G#892,PA#893,AB#894,R#895,H#896,2B#897,3B#898,HR#899,RBI#900,SB#901,CS#902,BB#903,SO#904,BA#905,OBP#906,SLG#907,OPS#908,OPS+#909,TB#910,GDP#911,... 6 more fields] csv\n",
      "\n",
      "== Optimized Logical Plan ==\n",
      "Aggregate [sum(cast(H#896 as bigint)) AS CH#1990L]\n",
      "+- Project [H#896]\n",
      "   +- Relation[Year#888,Age#889,Tm#890,Lg#891,G#892,PA#893,AB#894,R#895,H#896,2B#897,3B#898,HR#899,RBI#900,SB#901,CS#902,BB#903,SO#904,BA#905,OBP#906,SLG#907,OPS#908,OPS+#909,TB#910,GDP#911,... 6 more fields] csv\n",
      "\n",
      "== Physical Plan ==\n",
      "*HashAggregate(keys=[], functions=[sum(cast(H#896 as bigint))], output=[CH#1990L])\n",
      "+- Exchange SinglePartition\n",
      "   +- *HashAggregate(keys=[], functions=[partial_sum(cast(H#896 as bigint))], output=[sum#2002L])\n",
      "      +- *Project [H#896]\n",
      "         +- *FileScan csv [H#896] Batched: false, Format: CSV, Location: InMemoryFileIndex[file:/home/ec2-user/SageMaker/bbref/bryce.csv], PartitionFilters: [], PushedFilters: [], ReadSchema: struct<H:int>\n"
     ]
    }
   ],
   "source": [
    "CH.explain(True)"
   ]
  },
  {
   "cell_type": "code",
   "execution_count": 82,
   "metadata": {},
   "outputs": [
    {
     "name": "stdout",
     "output_type": "stream",
     "text": [
      "+---+\n",
      "| CH|\n",
      "+---+\n",
      "|922|\n",
      "+---+\n",
      "\n",
      "+----+\n",
      "| CAB|\n",
      "+----+\n",
      "|3306|\n",
      "+----+\n",
      "\n"
     ]
    }
   ],
   "source": [
    "CH.show()\n",
    "CAB.show()"
   ]
  },
  {
   "cell_type": "code",
   "execution_count": 88,
   "metadata": {},
   "outputs": [
    {
     "name": "stdout",
     "output_type": "stream",
     "text": [
      "0.278886872353297\n"
     ]
    }
   ],
   "source": [
    "rawAVG = CH.take(1)[0][0]/CAB.take(1)[0][0]\n",
    "print(rawAVG)"
   ]
  },
  {
   "cell_type": "code",
   "execution_count": 89,
   "metadata": {},
   "outputs": [
    {
     "data": {
      "text/plain": [
       "0.279"
      ]
     },
     "execution_count": 89,
     "metadata": {},
     "output_type": "execute_result"
    }
   ],
   "source": [
    "round(rawAVG,3)"
   ]
  },
  {
   "cell_type": "markdown",
   "metadata": {},
   "source": [
    "# Bryce Harper career batting average: 0.279"
   ]
  },
  {
   "cell_type": "code",
   "execution_count": null,
   "metadata": {},
   "outputs": [],
   "source": []
  }
 ],
 "metadata": {
  "kernelspec": {
   "display_name": "conda_python3",
   "language": "python",
   "name": "conda_python3"
  },
  "language_info": {
   "codemirror_mode": {
    "name": "ipython",
    "version": 3
   },
   "file_extension": ".py",
   "mimetype": "text/x-python",
   "name": "python",
   "nbconvert_exporter": "python",
   "pygments_lexer": "ipython3",
   "version": "3.6.5"
  }
 },
 "nbformat": 4,
 "nbformat_minor": 2
}
