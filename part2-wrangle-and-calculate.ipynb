{
 "cells": [
  {
   "cell_type": "markdown",
   "metadata": {},
   "source": [
    "# SQL, Database operations, and analysis\n",
    "In this notebook we will explore SQL and database operations like 'join'. Then we will use the datasets as input to a simple analysis.\n",
    "\n",
    "## In this Noteboook\n",
    "1. create a context\n",
    "2. read in data\n",
    "3. register table with SQL\n",
    "4. perform SQL queries\n",
    "5. perform database operations\n",
    "6. do some analysis"
   ]
  },
  {
   "cell_type": "code",
   "execution_count": null,
   "metadata": {},
   "outputs": [],
   "source": [
    "### DO NOT RUN\n",
    "### DO NOT RUN\n",
    "### DO NOT RUN\n",
    "\n",
    "# Initialize the spark environment (takes ~ 1min)\n",
    "import pyspark\n",
    "conf = pyspark.SparkConf().setAppName('odl').setMaster('local')\n",
    "sc = pyspark.SparkContext(conf=conf)\n",
    "sqlc = pyspark.sql.SQLContext(sc)\n",
    "\n",
    "### DO NOT RUN\n",
    "### DO NOT RUN\n",
    "### DO NOT RUN"
   ]
  },
  {
   "cell_type": "code",
   "execution_count": null,
   "metadata": {},
   "outputs": [],
   "source": [
    "import pyspark.sql.functions as sf"
   ]
  },
  {
   "cell_type": "markdown",
   "metadata": {},
   "source": [
    "## Read in Data"
   ]
  },
  {
   "cell_type": "code",
   "execution_count": null,
   "metadata": {},
   "outputs": [],
   "source": [
    "dataPaths = [\"bbref/bryce.csv\",\"bbref/javy.csv\",\"bbref/andre.csv\"]"
   ]
  },
  {
   "cell_type": "code",
   "execution_count": null,
   "metadata": {},
   "outputs": [],
   "source": [
    "dfbryce = sqlc.read.format(\"csv\").option(\"header\",\"true\").option(\"inferSchema\", \"true\").load(dataPaths[0])\n",
    "dfjavyb = sqlc.read.format(\"csv\").option(\"header\",\"true\").option(\"inferSchema\", \"true\").load(dataPaths[1])\n",
    "dfandre = sqlc.read.format(\"csv\").option(\"header\",\"true\").option(\"inferSchema\", \"true\").load(dataPaths[2])"
   ]
  },
  {
   "cell_type": "code",
   "execution_count": null,
   "metadata": {},
   "outputs": [],
   "source": [
    "dfbryce.printSchema()"
   ]
  },
  {
   "cell_type": "markdown",
   "metadata": {},
   "source": [
    "## Register Tables"
   ]
  },
  {
   "cell_type": "code",
   "execution_count": null,
   "metadata": {},
   "outputs": [],
   "source": [
    "dfbryce.registerTempTable(\"bryce\") # go lowercase\n",
    "dfjavyb.registerTempTable(\"javyb\")\n",
    "dfandre.registerTempTable(\"andre\")"
   ]
  },
  {
   "cell_type": "markdown",
   "metadata": {},
   "source": [
    "## SQL queries to produce dataframes"
   ]
  },
  {
   "cell_type": "code",
   "execution_count": null,
   "metadata": {},
   "outputs": [],
   "source": [
    "Bhits = sqlc.sql(\"\"\" SELECT Year,H,AB FROM bryce \"\"\")\n",
    "Bhits.show()"
   ]
  },
  {
   "cell_type": "code",
   "execution_count": null,
   "metadata": {},
   "outputs": [],
   "source": [
    "sqlc.sql(\"\"\" SELECT Year,H FROM bryce WHERE YEAR = 2015 \"\"\").show()"
   ]
  },
  {
   "cell_type": "code",
   "execution_count": null,
   "metadata": {},
   "outputs": [],
   "source": [
    "Jhits = sqlc.sql(\"\"\" SELECT Year,H,AB FROM javyb \"\"\")\n",
    "Jhits.show()"
   ]
  },
  {
   "cell_type": "code",
   "execution_count": null,
   "metadata": {},
   "outputs": [],
   "source": [
    "Ahits = sqlc.sql(\"\"\" SELECT Year,H,AB FROM ANDRE \"\"\")\n",
    "Ahits.show()"
   ]
  },
  {
   "cell_type": "markdown",
   "metadata": {},
   "source": [
    "## Database Operations: joins"
   ]
  },
  {
   "cell_type": "code",
   "execution_count": null,
   "metadata": {},
   "outputs": [],
   "source": [
    "df = Bhits.join(Jhits,Bhits.Year==Jhits.Year).join(Ahits,Bhits.Year==Ahits.Year,'outer')\n",
    "print(df)"
   ]
  },
  {
   "cell_type": "code",
   "execution_count": null,
   "metadata": {},
   "outputs": [],
   "source": [
    "df.show()"
   ]
  },
  {
   "cell_type": "code",
   "execution_count": null,
   "metadata": {},
   "outputs": [],
   "source": [
    "df = Bhits.join(Jhits,Bhits.Year==Jhits.Year)\n",
    "print(df)\n",
    "df.show()"
   ]
  },
  {
   "cell_type": "markdown",
   "metadata": {},
   "source": [
    "## Analysis: aggregate, calculate"
   ]
  },
  {
   "cell_type": "code",
   "execution_count": null,
   "metadata": {},
   "outputs": [],
   "source": [
    "CH = Bhits.groupBy().agg(sf.sum('H').alias('CH'))\n",
    "CAB = Bhits.groupBy().agg(sf.sum('AB').alias('CAB'))"
   ]
  },
  {
   "cell_type": "code",
   "execution_count": null,
   "metadata": {},
   "outputs": [],
   "source": [
    "CH.show()\n",
    "CAB.show()"
   ]
  },
  {
   "cell_type": "code",
   "execution_count": null,
   "metadata": {},
   "outputs": [],
   "source": [
    "rawAVG = CH.take(1)[0][0]/CAB.take(1)[0][0]"
   ]
  },
  {
   "cell_type": "code",
   "execution_count": null,
   "metadata": {},
   "outputs": [],
   "source": [
    "round(rawAVG,3)"
   ]
  },
  {
   "cell_type": "markdown",
   "metadata": {},
   "source": [
    "# Bryce Harper career batting average: 0.279"
   ]
  },
  {
   "cell_type": "code",
   "execution_count": null,
   "metadata": {},
   "outputs": [],
   "source": []
  }
 ],
 "metadata": {
  "kernelspec": {
   "display_name": "conda_python3",
   "language": "python",
   "name": "conda_python3"
  },
  "language_info": {
   "codemirror_mode": {
    "name": "ipython",
    "version": 3
   },
   "file_extension": ".py",
   "mimetype": "text/x-python",
   "name": "python",
   "nbconvert_exporter": "python",
   "pygments_lexer": "ipython3",
   "version": "3.6.5"
  }
 },
 "nbformat": 4,
 "nbformat_minor": 2
}
